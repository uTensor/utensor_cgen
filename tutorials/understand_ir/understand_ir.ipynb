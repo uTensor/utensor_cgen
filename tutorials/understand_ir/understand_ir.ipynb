{
 "cells": [
  {
   "cell_type": "code",
   "execution_count": 1,
   "metadata": {
    "ExecuteTime": {
     "end_time": "2020-11-28T06:35:26.279457Z",
     "start_time": "2020-11-28T06:35:23.600815Z"
    }
   },
   "outputs": [],
   "source": [
    "from utensor_cgen.frontend.tflite import TFLiteParser\n",
    "from utensor_cgen.logger import logger"
   ]
  },
  {
   "cell_type": "code",
   "execution_count": 2,
   "metadata": {
    "ExecuteTime": {
     "end_time": "2020-11-28T06:35:26.288587Z",
     "start_time": "2020-11-28T06:35:26.281632Z"
    }
   },
   "outputs": [],
   "source": [
    "logger.setLevel(\"ERROR\")"
   ]
  },
  {
   "cell_type": "code",
   "execution_count": 3,
   "metadata": {
    "ExecuteTime": {
     "end_time": "2020-11-28T06:35:26.837101Z",
     "start_time": "2020-11-28T06:35:26.805115Z"
    }
   },
   "outputs": [],
   "source": [
    "parser = TFLiteParser({})\n",
    "ugraph = parser.parse(\"./simple_cnn.tflite\")"
   ]
  },
  {
   "cell_type": "code",
   "execution_count": 9,
   "metadata": {
    "ExecuteTime": {
     "end_time": "2020-11-28T06:37:18.999410Z",
     "start_time": "2020-11-28T06:37:18.965806Z"
    }
   },
   "outputs": [
    {
     "data": {
      "text/plain": [
       "dict"
      ]
     },
     "execution_count": 9,
     "metadata": {},
     "output_type": "execute_result"
    }
   ],
   "source": [
    "type(ugraph.ops_info)"
   ]
  },
  {
   "cell_type": "code",
   "execution_count": 11,
   "metadata": {
    "ExecuteTime": {
     "end_time": "2020-11-28T06:37:57.402070Z",
     "start_time": "2020-11-28T06:37:57.389157Z"
    }
   },
   "outputs": [
    {
     "name": "stdout",
     "output_type": "stream",
     "text": [
      "unknown_0_Const\n",
      "unknown_2_Const\n",
      "unknown_4_Const\n",
      "unknown_6_Const\n",
      "unknown_8_Const\n",
      "sequential_1/dense_1/MatMul__StatefulPartitionedCall/sequential_1/dense_1/MatMul_Const\n",
      "sequential_1/conv2d_4/Conv2D__StatefulPartitionedCall/sequential_1/conv2d_4/Conv2D_Const\n",
      "sequential_1/conv2d_5/Conv2D__StatefulPartitionedCall/sequential_1/conv2d_5/Conv2D_Const\n",
      "sequential_1/conv2d_6/Conv2D__StatefulPartitionedCall/sequential_1/conv2d_6/Conv2D_Const\n",
      "sequential_1/conv2d_7/Conv2D__StatefulPartitionedCall/sequential_1/conv2d_7/Conv2D_Const\n",
      "conv2d_4_input:0_Placeholder\n",
      "0_QUANTIZE\n",
      "1_CONV_2D\n",
      "2_CONV_2D\n",
      "3_MAX_POOL_2D\n",
      "4_CONV_2D\n",
      "5_CONV_2D\n",
      "6_MAX_POOL_2D\n",
      "7_RESHAPE\n",
      "8_FULLY_CONNECTED\n",
      "9_DEQUANTIZE\n",
      "1_CONV_2D/ReLU\n",
      "2_CONV_2D/ReLU\n",
      "4_CONV_2D/ReLU\n",
      "5_CONV_2D/ReLU\n"
     ]
    }
   ],
   "source": [
    "for op_name, value in ugraph.ops_info.items():\n",
    "    print(op_name)"
   ]
  },
  {
   "cell_type": "code",
   "execution_count": 12,
   "metadata": {
    "ExecuteTime": {
     "end_time": "2020-11-28T06:38:16.887653Z",
     "start_time": "2020-11-28T06:38:16.875372Z"
    }
   },
   "outputs": [
    {
     "data": {
      "text/plain": [
       "utensor_cgen.ir.base.OperationInfo"
      ]
     },
     "execution_count": 12,
     "metadata": {},
     "output_type": "execute_result"
    }
   ],
   "source": [
    "type(ugraph.ops_info[\"4_CONV_2D/ReLU\"])"
   ]
  },
  {
   "cell_type": "code",
   "execution_count": 13,
   "metadata": {
    "ExecuteTime": {
     "end_time": "2020-11-28T06:38:28.857053Z",
     "start_time": "2020-11-28T06:38:28.813781Z"
    }
   },
   "outputs": [
    {
     "data": {
      "text/plain": [
       "['conv2d_4_input:0_Placeholder',\n",
       " '0_QUANTIZE',\n",
       " 'sequential_1/conv2d_4/Conv2D__StatefulPartitionedCall/sequential_1/conv2d_4/Conv2D_Const',\n",
       " 'unknown_0_Const',\n",
       " '1_CONV_2D',\n",
       " '1_CONV_2D/ReLU',\n",
       " 'sequential_1/conv2d_5/Conv2D__StatefulPartitionedCall/sequential_1/conv2d_5/Conv2D_Const',\n",
       " 'unknown_2_Const',\n",
       " '2_CONV_2D',\n",
       " '2_CONV_2D/ReLU',\n",
       " '3_MAX_POOL_2D',\n",
       " 'sequential_1/conv2d_6/Conv2D__StatefulPartitionedCall/sequential_1/conv2d_6/Conv2D_Const',\n",
       " 'unknown_4_Const',\n",
       " '4_CONV_2D',\n",
       " '4_CONV_2D/ReLU',\n",
       " 'sequential_1/conv2d_7/Conv2D__StatefulPartitionedCall/sequential_1/conv2d_7/Conv2D_Const',\n",
       " 'unknown_6_Const',\n",
       " '5_CONV_2D',\n",
       " '5_CONV_2D/ReLU',\n",
       " '6_MAX_POOL_2D',\n",
       " '7_RESHAPE',\n",
       " 'sequential_1/dense_1/MatMul__StatefulPartitionedCall/sequential_1/dense_1/MatMul_Const',\n",
       " 'unknown_8_Const',\n",
       " '8_FULLY_CONNECTED',\n",
       " '9_DEQUANTIZE']"
      ]
     },
     "execution_count": 13,
     "metadata": {},
     "output_type": "execute_result"
    }
   ],
   "source": [
    "ugraph.topo_order"
   ]
  },
  {
   "cell_type": "code",
   "execution_count": 14,
   "metadata": {
    "ExecuteTime": {
     "end_time": "2020-11-28T06:40:47.297299Z",
     "start_time": "2020-11-28T06:40:47.288469Z"
    }
   },
   "outputs": [],
   "source": [
    "fc_op = ugraph.ops_info[\"8_FULLY_CONNECTED\"]"
   ]
  },
  {
   "cell_type": "code",
   "execution_count": 16,
   "metadata": {
    "ExecuteTime": {
     "end_time": "2020-11-28T06:41:02.990637Z",
     "start_time": "2020-11-28T06:41:02.964629Z"
    }
   },
   "outputs": [
    {
     "data": {
      "text/plain": [
       "[TensorInfo(name='sequential_1/flatten_1/Reshape__StatefulPartitionedCall/sequential_1/flatten_1/Reshape:0', op_name='7_RESHAPE', dtype=dtype('int8'), shape=[1, 256], attributes={'quantization_zeros': array([-128]), 'quantization_scales': array([0.0914138], dtype=float32)}),\n",
       " TensorInfo(name='sequential_1/dense_1/MatMul__StatefulPartitionedCall/sequential_1/dense_1/MatMul:0', op_name='sequential_1/dense_1/MatMul__StatefulPartitionedCall/sequential_1/dense_1/MatMul_Const', dtype=dtype('int8'), shape=[256, 10], attributes={'quantization_zeros': array([0]), 'quantization_scales': array([0.01131374], dtype=float32)}),\n",
       " TensorInfo(name='unknown_8:0', op_name='unknown_8_Const', dtype=dtype('int32'), shape=[10], attributes={'quantization_zeros': array([0], dtype=int32), 'quantization_scales': array([0.00103423], dtype=float32)})]"
      ]
     },
     "execution_count": 16,
     "metadata": {},
     "output_type": "execute_result"
    }
   ],
   "source": [
    "fc_op.input_tensors # a list of TensorInfo objects"
   ]
  },
  {
   "cell_type": "code",
   "execution_count": 17,
   "metadata": {
    "ExecuteTime": {
     "end_time": "2020-11-28T06:41:17.929050Z",
     "start_time": "2020-11-28T06:41:17.908329Z"
    }
   },
   "outputs": [
    {
     "data": {
      "text/plain": [
       "3"
      ]
     },
     "execution_count": 17,
     "metadata": {},
     "output_type": "execute_result"
    }
   ],
   "source": [
    "fc_op.n_inputs"
   ]
  },
  {
   "cell_type": "code",
   "execution_count": 18,
   "metadata": {
    "ExecuteTime": {
     "end_time": "2020-11-28T06:42:11.199508Z",
     "start_time": "2020-11-28T06:42:11.177003Z"
    }
   },
   "outputs": [
    {
     "data": {
      "text/plain": [
       "utensor_cgen.ir.base.TensorInfo"
      ]
     },
     "execution_count": 18,
     "metadata": {},
     "output_type": "execute_result"
    }
   ],
   "source": [
    "type(fc_op.input_tensors[0])"
   ]
  },
  {
   "cell_type": "code",
   "execution_count": 21,
   "metadata": {
    "ExecuteTime": {
     "end_time": "2020-11-28T06:43:02.561329Z",
     "start_time": "2020-11-28T06:43:02.550285Z"
    }
   },
   "outputs": [],
   "source": [
    "in_tensor = fc_op.input_tensors[0]"
   ]
  },
  {
   "cell_type": "code",
   "execution_count": 23,
   "metadata": {
    "ExecuteTime": {
     "end_time": "2020-11-28T06:43:44.753371Z",
     "start_time": "2020-11-28T06:43:44.737250Z"
    }
   },
   "outputs": [
    {
     "data": {
      "text/plain": [
       "[TensorInfo(name='Identity_int8:0', op_name='8_FULLY_CONNECTED', dtype=dtype('int8'), shape=[1, 10], attributes={'quantization_zeros': array([2]), 'quantization_scales': array([0.19589376], dtype=float32)})]"
      ]
     },
     "execution_count": 23,
     "metadata": {},
     "output_type": "execute_result"
    }
   ],
   "source": [
    "fc_op.output_tensors"
   ]
  },
  {
   "cell_type": "code",
   "execution_count": 25,
   "metadata": {
    "ExecuteTime": {
     "end_time": "2020-11-28T06:44:06.030435Z",
     "start_time": "2020-11-28T06:44:05.999341Z"
    }
   },
   "outputs": [
    {
     "data": {
      "text/plain": [
       "[('9_DEQUANTIZE', 'DequantizeOperator')]"
      ]
     },
     "execution_count": 25,
     "metadata": {},
     "output_type": "execute_result"
    }
   ],
   "source": [
    "fc_op.output_tensors[0].op.output_nodes"
   ]
  },
  {
   "cell_type": "code",
   "execution_count": 28,
   "metadata": {
    "ExecuteTime": {
     "end_time": "2020-11-28T06:44:59.494209Z",
     "start_time": "2020-11-28T06:44:59.472362Z"
    }
   },
   "outputs": [
    {
     "data": {
      "text/plain": [
       "True"
      ]
     },
     "execution_count": 28,
     "metadata": {},
     "output_type": "execute_result"
    }
   ],
   "source": [
    "fc_op.output_tensors[0] is ugraph.ops_info[\"9_DEQUANTIZE\"].input_tensors[0]"
   ]
  },
  {
   "cell_type": "code",
   "execution_count": 38,
   "metadata": {
    "ExecuteTime": {
     "end_time": "2020-11-28T06:48:00.094817Z",
     "start_time": "2020-11-28T06:48:00.069163Z"
    }
   },
   "outputs": [
    {
     "data": {
      "text/plain": [
       "[('5_CONV_2D/ReLU', 'ReLUOperator')]"
      ]
     },
     "execution_count": 38,
     "metadata": {},
     "output_type": "execute_result"
    }
   ],
   "source": [
    "fc_op.input_nodes[0].input_nodes[0].input_nodes"
   ]
  },
  {
   "cell_type": "code",
   "execution_count": 39,
   "metadata": {
    "ExecuteTime": {
     "end_time": "2020-11-28T06:49:15.170938Z",
     "start_time": "2020-11-28T06:49:15.156538Z"
    }
   },
   "outputs": [
    {
     "data": {
      "text/plain": [
       "{}"
      ]
     },
     "execution_count": 39,
     "metadata": {},
     "output_type": "execute_result"
    }
   ],
   "source": [
    "fc_op.code_gen_attributes"
   ]
  },
  {
   "cell_type": "code",
   "execution_count": 40,
   "metadata": {
    "ExecuteTime": {
     "end_time": "2020-11-28T06:49:31.740462Z",
     "start_time": "2020-11-28T06:49:31.714297Z"
    }
   },
   "outputs": [
    {
     "data": {
      "text/plain": [
       "{'FusedActivationFunction': '0 (NONE)', 'w_formats': '0 (DEFAULT)'}"
      ]
     },
     "execution_count": 40,
     "metadata": {},
     "output_type": "execute_result"
    }
   ],
   "source": [
    "fc_op.op_attr"
   ]
  },
  {
   "cell_type": "code",
   "execution_count": 41,
   "metadata": {
    "ExecuteTime": {
     "end_time": "2020-11-28T06:49:45.331875Z",
     "start_time": "2020-11-28T06:49:45.291270Z"
    }
   },
   "outputs": [
    {
     "data": {
      "text/plain": [
       "{}"
      ]
     },
     "execution_count": 41,
     "metadata": {},
     "output_type": "execute_result"
    }
   ],
   "source": [
    "fc_op.code_gen_attributes"
   ]
  },
  {
   "cell_type": "code",
   "execution_count": 42,
   "metadata": {
    "ExecuteTime": {
     "end_time": "2020-11-28T06:50:04.935411Z",
     "start_time": "2020-11-28T06:50:04.921556Z"
    }
   },
   "outputs": [
    {
     "data": {
      "text/plain": [
       "{'FusedActivationFunction': '0 (NONE)', 'w_formats': '0 (DEFAULT)'}"
      ]
     },
     "execution_count": 42,
     "metadata": {},
     "output_type": "execute_result"
    }
   ],
   "source": [
    "fc_op.op_attr"
   ]
  },
  {
   "cell_type": "code",
   "execution_count": 46,
   "metadata": {
    "ExecuteTime": {
     "end_time": "2020-11-28T06:50:57.925548Z",
     "start_time": "2020-11-28T06:50:57.907390Z"
    }
   },
   "outputs": [
    {
     "data": {
      "text/plain": [
       "array([[-29, -33, -16, ...,  23,  10,  -4],\n",
       "       [-10, -21,  -5, ...,  14,  21,   6],\n",
       "       [  1,  27, -22, ..., -13,  -1,   9],\n",
       "       ...,\n",
       "       [ -5, -34,  34, ...,  -8, -18,  17],\n",
       "       [-36,  23,   9, ..., -22, -63, -13],\n",
       "       [-52,  -3,  27, ...,  11,  15, -16]], dtype=int8)"
      ]
     },
     "execution_count": 46,
     "metadata": {},
     "output_type": "execute_result"
    }
   ],
   "source": [
    "fc_op.input_tensors[1].op.op_attr['value'].value.np_array"
   ]
  },
  {
   "cell_type": "code",
   "execution_count": null,
   "metadata": {},
   "outputs": [],
   "source": []
  }
 ],
 "metadata": {
  "kernelspec": {
   "display_name": "utensor",
   "language": "python",
   "name": "utensor"
  },
  "language_info": {
   "codemirror_mode": {
    "name": "ipython",
    "version": 3
   },
   "file_extension": ".py",
   "mimetype": "text/x-python",
   "name": "python",
   "nbconvert_exporter": "python",
   "pygments_lexer": "ipython3",
   "version": "3.7.2"
  },
  "toc": {
   "base_numbering": 1,
   "nav_menu": {},
   "number_sections": true,
   "sideBar": true,
   "skip_h1_title": false,
   "title_cell": "Table of Contents",
   "title_sidebar": "Contents",
   "toc_cell": false,
   "toc_position": {},
   "toc_section_display": true,
   "toc_window_display": false
  }
 },
 "nbformat": 4,
 "nbformat_minor": 4
}
