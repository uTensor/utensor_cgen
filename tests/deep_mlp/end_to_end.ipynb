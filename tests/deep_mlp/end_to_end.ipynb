{
 "cells": [
  {
   "cell_type": "markdown",
   "metadata": {},
   "source": [
    "## Import"
   ]
  },
  {
   "cell_type": "code",
   "execution_count": 1,
   "metadata": {},
   "outputs": [],
   "source": [
    "import tensorflow as tf\n",
    "from tensorflow.python.framework import graph_util\n",
    "from tensorflow.examples.tutorials.mnist.input_data import read_data_sets"
   ]
  },
  {
   "cell_type": "code",
   "execution_count": 2,
   "metadata": {},
   "outputs": [
    {
     "name": "stdout",
     "output_type": "stream",
     "text": "1.13.1\n"
    }
   ],
   "source": [
    "print(tf.__version__)"
   ]
  },
  {
   "cell_type": "code",
   "execution_count": 3,
   "metadata": {},
   "outputs": [
    {
     "name": "stdout",
     "output_type": "stream",
     "text": "WARNING:tensorflow:From <ipython-input-3-7643a3a31faa>:1: read_data_sets (from tensorflow.contrib.learn.python.learn.datasets.mnist) is deprecated and will be removed in a future version.\nInstructions for updating:\nPlease use alternatives such as official/mnist/dataset.py from tensorflow/models.\nWARNING:tensorflow:From /Users/dboyliao/Work/open_source/uTensor/utensor_cgen/.venv/lib/python3.6/site-packages/tensorflow-1.13.1-py3.6-macosx-10.15-x86_64.egg/tensorflow/contrib/learn/python/learn/datasets/mnist.py:260: maybe_download (from tensorflow.contrib.learn.python.learn.datasets.base) is deprecated and will be removed in a future version.\nInstructions for updating:\nPlease write your own downloading logic.\nWARNING:tensorflow:From /Users/dboyliao/Work/open_source/uTensor/utensor_cgen/.venv/lib/python3.6/site-packages/tensorflow-1.13.1-py3.6-macosx-10.15-x86_64.egg/tensorflow/contrib/learn/python/learn/datasets/mnist.py:262: extract_images (from tensorflow.contrib.learn.python.learn.datasets.mnist) is deprecated and will be removed in a future version.\nInstructions for updating:\nPlease use tf.data to implement this functionality.\nExtracting mnist_data/train-images-idx3-ubyte.gz\nWARNING:tensorflow:From /Users/dboyliao/Work/open_source/uTensor/utensor_cgen/.venv/lib/python3.6/site-packages/tensorflow-1.13.1-py3.6-macosx-10.15-x86_64.egg/tensorflow/contrib/learn/python/learn/datasets/mnist.py:267: extract_labels (from tensorflow.contrib.learn.python.learn.datasets.mnist) is deprecated and will be removed in a future version.\nInstructions for updating:\nPlease use tf.data to implement this functionality.\nExtracting mnist_data/train-labels-idx1-ubyte.gz\nWARNING:tensorflow:From /Users/dboyliao/Work/open_source/uTensor/utensor_cgen/.venv/lib/python3.6/site-packages/tensorflow-1.13.1-py3.6-macosx-10.15-x86_64.egg/tensorflow/contrib/learn/python/learn/datasets/mnist.py:110: dense_to_one_hot (from tensorflow.contrib.learn.python.learn.datasets.mnist) is deprecated and will be removed in a future version.\nInstructions for updating:\nPlease use tf.one_hot on tensors.\nExtracting mnist_data/t10k-images-idx3-ubyte.gz\nExtracting mnist_data/t10k-labels-idx1-ubyte.gz\nWARNING:tensorflow:From /Users/dboyliao/Work/open_source/uTensor/utensor_cgen/.venv/lib/python3.6/site-packages/tensorflow-1.13.1-py3.6-macosx-10.15-x86_64.egg/tensorflow/contrib/learn/python/learn/datasets/mnist.py:290: DataSet.__init__ (from tensorflow.contrib.learn.python.learn.datasets.mnist) is deprecated and will be removed in a future version.\nInstructions for updating:\nPlease use alternatives such as official/mnist/dataset.py from tensorflow/models.\n"
    }
   ],
   "source": [
    "mnist = read_data_sets('mnist_data', one_hot=True)"
   ]
  },
  {
   "cell_type": "markdown",
   "metadata": {},
   "source": [
    "## Define Graph and Training"
   ]
  },
  {
   "cell_type": "code",
   "execution_count": 4,
   "metadata": {},
   "outputs": [],
   "source": [
    "def weight_variable(shape, name):\n",
    "    \"\"\"weight_variable generates a weight variable of a given shape.\"\"\"\n",
    "    initial = tf.truncated_normal(shape, stddev=0.1)\n",
    "    return tf.Variable(initial, name=name)\n",
    "\n",
    "\n",
    "def bias_variable(shape, name):\n",
    "    \"\"\"bias_variable generates a bias variable of a given shape.\"\"\"\n",
    "    initial = tf.constant(0.1, shape=shape)\n",
    "    return tf.Variable(initial, name=name)"
   ]
  },
  {
   "cell_type": "code",
   "execution_count": 5,
   "metadata": {},
   "outputs": [],
   "source": [
    "batch_size = 10"
   ]
  },
  {
   "cell_type": "code",
   "execution_count": 6,
   "metadata": {},
   "outputs": [
    {
     "name": "stdout",
     "output_type": "stream",
     "text": "WARNING:tensorflow:From /Users/dboyliao/Work/open_source/uTensor/utensor_cgen/.venv/lib/python3.6/site-packages/tensorflow-1.13.1-py3.6-macosx-10.15-x86_64.egg/tensorflow/python/framework/op_def_library.py:263: colocate_with (from tensorflow.python.framework.ops) is deprecated and will be removed in a future version.\nInstructions for updating:\nColocations handled automatically by placer.\n"
    }
   ],
   "source": [
    "graph = tf.Graph()\n",
    "\n",
    "with graph.as_default():\n",
    "    x = tf.placeholder(tf.float32, [batch_size, 784], name=\"x\")\n",
    "    y = tf.placeholder(tf.float32, [batch_size, 10], name=\"y\")\n",
    "\n",
    "    with tf.name_scope(\"Layer1\"):\n",
    "        W_fc1 = weight_variable([784, 128], name='W_fc1')\n",
    "        b_fc1 = bias_variable([128], name='b_fc1')\n",
    "        a_fc1 = tf.add(tf.matmul(x, W_fc1), b_fc1, name=\"zscore\")\n",
    "        h_fc1 = tf.nn.relu(a_fc1)\n",
    "    with tf.name_scope(\"Layer2\"):\n",
    "        W_fc2 = weight_variable([128, 64], name='W_fc2')\n",
    "        b_fc2 = bias_variable([64], name='b_fc2')\n",
    "        a_fc2 = tf.add(tf.matmul(h_fc1, W_fc2), b_fc2, name=\"zscore\")\n",
    "        h_fc2 = tf.nn.relu(a_fc2)\n",
    "    with tf.name_scope(\"OuputLayer\"):\n",
    "        W_fc3 = weight_variable([64, 10], name='W_fc3')\n",
    "        b_fc3 = bias_variable([10], name='b_fc3')\n",
    "        logits = tf.add(tf.matmul(h_fc2, W_fc3), b_fc3, name=\"logits\")\n",
    "    y_pred = tf.argmax(logits, 1, name='y_pred')\n",
    "        \n",
    "    with tf.name_scope(\"Loss\"):\n",
    "        cross_entropy = tf.nn.softmax_cross_entropy_with_logits_v2(labels=y, \n",
    "                                                                   logits=logits)\n",
    "        loss = tf.reduce_mean(cross_entropy, name=\"cross_entropy_loss\")\n",
    "    \n",
    "    train_step = tf.train.AdamOptimizer(1e-4).minimize(loss, name=\"train_step\")\n",
    "    \n",
    "    with tf.name_scope(\"Prediction\"): \n",
    "        correct_prediction = tf.equal(y_pred, \n",
    "                                      tf.argmax(y, 1))\n",
    "        accuracy = tf.reduce_mean(tf.cast(correct_prediction, tf.float32), name=\"accuracy\")"
   ]
  },
  {
   "cell_type": "code",
   "execution_count": 7,
   "metadata": {},
   "outputs": [
    {
     "data": {
      "text/plain": "'y_pred'"
     },
     "execution_count": 7,
     "metadata": {},
     "output_type": "execute_result"
    }
   ],
   "source": [
    "y_pred.op.name"
   ]
  },
  {
   "cell_type": "code",
   "execution_count": 8,
   "metadata": {},
   "outputs": [
    {
     "name": "stdout",
     "output_type": "stream",
     "text": "step 1000, training accuracy 0.7\nstep 2000, training accuracy 0.9\nstep 3000, training accuracy 0.8\nstep 4000, training accuracy 1\nstep 5000, training accuracy 0.9\nstep 6000, training accuracy 1\nstep 7000, training accuracy 1\nstep 8000, training accuracy 0.9\nstep 9000, training accuracy 0.8\nstep 10000, training accuracy 1\nstep 11000, training accuracy 0.8\nstep 12000, training accuracy 1\nstep 13000, training accuracy 0.9\nstep 14000, training accuracy 1\nstep 15000, training accuracy 1\nstep 16000, training accuracy 1\nstep 17000, training accuracy 0.8\nstep 18000, training accuracy 0.9\nstep 19000, training accuracy 1\nstep 20000, training accuracy 0.9\n"
    }
   ],
   "source": [
    "with tf.Session(graph=graph) as sess:\n",
    "    sess.run(tf.global_variables_initializer())\n",
    "    saver = tf.train.Saver()\n",
    "\n",
    "    for i in range(1, 20001):\n",
    "        images, labels = mnist.train.next_batch(batch_size)\n",
    "        train_step.run(feed_dict={x: images, y: labels})\n",
    "        if i % 1000 == 0:\n",
    "            train_accuracy = accuracy.eval(feed_dict={x: images, y: labels})\n",
    "            print('step %d, training accuracy %g' % (i, train_accuracy))\n",
    "    chkp_path = saver.save(sess, \"./my-model/model.ckpt\")"
   ]
  },
  {
   "cell_type": "code",
   "execution_count": 9,
   "metadata": {},
   "outputs": [
    {
     "data": {
      "text/plain": "'./my-model/model.ckpt'"
     },
     "execution_count": 9,
     "metadata": {},
     "output_type": "execute_result"
    }
   ],
   "source": [
    "chkp_path"
   ]
  },
  {
   "cell_type": "markdown",
   "metadata": {},
   "source": [
    "## Remove Training Nodes and Freeze Graph"
   ]
  },
  {
   "cell_type": "code",
   "execution_count": 10,
   "metadata": {},
   "outputs": [
    {
     "name": "stdout",
     "output_type": "stream",
     "text": "WARNING:tensorflow:From /Users/dboyliao/Work/open_source/uTensor/utensor_cgen/.venv/lib/python3.6/site-packages/tensorflow-1.13.1-py3.6-macosx-10.15-x86_64.egg/tensorflow/python/training/saver.py:1266: checkpoint_exists (from tensorflow.python.training.checkpoint_management) is deprecated and will be removed in a future version.\nInstructions for updating:\nUse standard file APIs to check for files with this prefix.\nINFO:tensorflow:Restoring parameters from ./my-model/model.ckpt\nWARNING:tensorflow:From <ipython-input-10-364713e28b48>:4: remove_training_nodes (from tensorflow.python.framework.graph_util_impl) is deprecated and will be removed in a future version.\nInstructions for updating:\nUse tf.compat.v1.graph_util.remove_training_nodes\nWARNING:tensorflow:From <ipython-input-10-364713e28b48>:5: convert_variables_to_constants (from tensorflow.python.framework.graph_util_impl) is deprecated and will be removed in a future version.\nInstructions for updating:\nUse tf.compat.v1.graph_util.convert_variables_to_constants\nWARNING:tensorflow:From /Users/dboyliao/Work/open_source/uTensor/utensor_cgen/.venv/lib/python3.6/site-packages/tensorflow-1.13.1-py3.6-macosx-10.15-x86_64.egg/tensorflow/python/framework/graph_util_impl.py:245: extract_sub_graph (from tensorflow.python.framework.graph_util_impl) is deprecated and will be removed in a future version.\nInstructions for updating:\nUse tf.compat.v1.graph_util.extract_sub_graph\nINFO:tensorflow:Froze 6 variables.\nINFO:tensorflow:Converted 6 variables to const ops.\n"
    }
   ],
   "source": [
    "with tf.Session(graph=graph) as sess:\n",
    "    saver.restore(sess, chkp_path)\n",
    "    out_nodes = [y_pred.op.name]\n",
    "    sub_graph_def = graph_util.remove_training_nodes(sess.graph_def)\n",
    "    sub_graph_def = graph_util.convert_variables_to_constants(sess, sub_graph_def, out_nodes)"
   ]
  },
  {
   "cell_type": "code",
   "execution_count": 11,
   "metadata": {},
   "outputs": [
    {
     "name": "stdout",
     "output_type": "stream",
     "text": "written graph to: ./my-model/simple_mnist.pb\n"
    }
   ],
   "source": [
    "# save freezed graph\n",
    "graph_path = tf.train.write_graph(sub_graph_def, \n",
    "                                  \"./my-model\", \"simple_mnist.pb\", \n",
    "                                  as_text=False)\n",
    "print('written graph to: %s' % graph_path)"
   ]
  },
  {
   "cell_type": "code",
   "execution_count": 12,
   "metadata": {},
   "outputs": [],
   "source": [
    "# you are ready to use simple_mnist.pb to generate uTensor implementation"
   ]
  },
  {
   "cell_type": "code",
   "execution_count": null,
   "metadata": {},
   "outputs": [],
   "source": []
  }
 ],
 "metadata": {
  "kernelspec": {
   "display_name": "Python 3",
   "language": "python",
   "name": "python3"
  },
  "language_info": {
   "codemirror_mode": {
    "name": "ipython",
    "version": 3
   },
   "file_extension": ".py",
   "mimetype": "text/x-python",
   "name": "python",
   "nbconvert_exporter": "python",
   "pygments_lexer": "ipython3",
   "version": "3.6.8-final"
  },
  "toc": {
   "nav_menu": {},
   "number_sections": true,
   "sideBar": true,
   "skip_h1_title": false,
   "toc_cell": false,
   "toc_position": {},
   "toc_section_display": "block",
   "toc_window_display": false
  }
 },
 "nbformat": 4,
 "nbformat_minor": 2
}